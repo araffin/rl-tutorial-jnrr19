{
  "nbformat": 4,
  "nbformat_minor": 0,
  "metadata": {
    "colab": {
      "name": "3_multiprocessing.ipynb",
      "provenance": [],
      "collapsed_sections": []
    },
    "kernelspec": {
      "name": "python3",
      "display_name": "Python 3"
    }
  },
  "cells": [
    {
      "cell_type": "markdown",
      "metadata": {
        "id": "KnPeMWYi0vAx"
      },
      "source": [
        "# Stable Baselines3 Tutorial - Multiprocessing of environments\n",
        "\n",
        "Github repo: https://github.com/araffin/rl-tutorial-jnrr19/tree/sb3/\n",
        "\n",
        "Stable-Baselines3: https://github.com/DLR-RM/stable-baselines3\n",
        "\n",
        "Documentation: https://stable-baselines3.readthedocs.io/en/master/\n",
        "\n",
        "RL Baselines3 zoo: https://github.com/DLR-RM/rl-baselines3-zoo\n",
        "\n",
        "\n",
        "## Introduction\n",
        "\n",
        "In this notebook, you will learn how to use *Vectorized Environments* (aka multiprocessing) to make training faster. You will also see that this speed up comes at a cost of sample efficiency.\n",
        "\n",
        "## Install Dependencies and Stable Baselines3 Using Pip"
      ]
    },
    {
      "cell_type": "code",
      "metadata": {
        "id": "ClRYNMkVvpUX",
        "colab": {
          "base_uri": "https://localhost:8080/"
        },
        "outputId": "9a14e279-b710-4f68-b7b6-17696df93baa"
      },
      "source": [
        "!apt install swig\n",
        "!pip install stable-baselines3[extra]"
      ],
      "execution_count": 1,
      "outputs": [
        {
          "output_type": "stream",
          "name": "stdout",
          "text": [
            "Reading package lists... Done\n",
            "Building dependency tree       \n",
            "Reading state information... Done\n",
            "The following package was automatically installed and is no longer required:\n",
            "  libnvidia-common-460\n",
            "Use 'apt autoremove' to remove it.\n",
            "The following additional packages will be installed:\n",
            "  swig3.0\n",
            "Suggested packages:\n",
            "  swig-doc swig-examples swig3.0-examples swig3.0-doc\n",
            "The following NEW packages will be installed:\n",
            "  swig swig3.0\n",
            "0 upgraded, 2 newly installed, 0 to remove and 27 not upgraded.\n",
            "Need to get 1,100 kB of archives.\n",
            "After this operation, 5,822 kB of additional disk space will be used.\n",
            "Get:1 http://archive.ubuntu.com/ubuntu bionic/universe amd64 swig3.0 amd64 3.0.12-1 [1,094 kB]\n",
            "Get:2 http://archive.ubuntu.com/ubuntu bionic/universe amd64 swig amd64 3.0.12-1 [6,460 B]\n",
            "Fetched 1,100 kB in 1s (993 kB/s)\n",
            "Selecting previously unselected package swig3.0.\n",
            "(Reading database ... 123942 files and directories currently installed.)\n",
            "Preparing to unpack .../swig3.0_3.0.12-1_amd64.deb ...\n",
            "Unpacking swig3.0 (3.0.12-1) ...\n",
            "Selecting previously unselected package swig.\n",
            "Preparing to unpack .../swig_3.0.12-1_amd64.deb ...\n",
            "Unpacking swig (3.0.12-1) ...\n",
            "Setting up swig3.0 (3.0.12-1) ...\n",
            "Setting up swig (3.0.12-1) ...\n",
            "Processing triggers for man-db (2.8.3-2ubuntu0.1) ...\n",
            "Looking in indexes: https://pypi.org/simple, https://us-python.pkg.dev/colab-wheels/public/simple/\n",
            "Collecting stable-baselines3[extra]\n",
            "  Downloading stable_baselines3-1.6.2-py3-none-any.whl (170 kB)\n",
            "\u001b[K     |████████████████████████████████| 170 kB 5.3 MB/s \n",
            "\u001b[?25hRequirement already satisfied: numpy in /usr/local/lib/python3.7/dist-packages (from stable-baselines3[extra]) (1.21.6)\n",
            "Requirement already satisfied: torch>=1.11 in /usr/local/lib/python3.7/dist-packages (from stable-baselines3[extra]) (1.12.1+cu113)\n",
            "Collecting gym==0.21\n",
            "  Downloading gym-0.21.0.tar.gz (1.5 MB)\n",
            "\u001b[K     |████████████████████████████████| 1.5 MB 38.1 MB/s \n",
            "\u001b[?25hRequirement already satisfied: cloudpickle in /usr/local/lib/python3.7/dist-packages (from stable-baselines3[extra]) (1.5.0)\n",
            "Requirement already satisfied: importlib-metadata~=4.13 in /usr/local/lib/python3.7/dist-packages (from stable-baselines3[extra]) (4.13.0)\n",
            "Requirement already satisfied: matplotlib in /usr/local/lib/python3.7/dist-packages (from stable-baselines3[extra]) (3.2.2)\n",
            "Requirement already satisfied: pandas in /usr/local/lib/python3.7/dist-packages (from stable-baselines3[extra]) (1.3.5)\n",
            "Requirement already satisfied: tensorboard>=2.9.1 in /usr/local/lib/python3.7/dist-packages (from stable-baselines3[extra]) (2.9.1)\n",
            "Collecting ale-py==0.7.4\n",
            "  Downloading ale_py-0.7.4-cp37-cp37m-manylinux_2_17_x86_64.manylinux2014_x86_64.whl (1.6 MB)\n",
            "\u001b[K     |████████████████████████████████| 1.6 MB 26.0 MB/s \n",
            "\u001b[?25hRequirement already satisfied: psutil in /usr/local/lib/python3.7/dist-packages (from stable-baselines3[extra]) (5.4.8)\n",
            "Requirement already satisfied: pillow in /usr/local/lib/python3.7/dist-packages (from stable-baselines3[extra]) (7.1.2)\n",
            "Requirement already satisfied: tqdm in /usr/local/lib/python3.7/dist-packages (from stable-baselines3[extra]) (4.64.1)\n",
            "Collecting rich\n",
            "  Downloading rich-12.6.0-py3-none-any.whl (237 kB)\n",
            "\u001b[K     |████████████████████████████████| 237 kB 43.8 MB/s \n",
            "\u001b[?25hCollecting autorom[accept-rom-license]~=0.4.2\n",
            "  Downloading AutoROM-0.4.2-py3-none-any.whl (16 kB)\n",
            "Requirement already satisfied: opencv-python in /usr/local/lib/python3.7/dist-packages (from stable-baselines3[extra]) (4.6.0.66)\n",
            "Requirement already satisfied: importlib-resources in /usr/local/lib/python3.7/dist-packages (from ale-py==0.7.4->stable-baselines3[extra]) (5.10.0)\n",
            "Requirement already satisfied: click in /usr/local/lib/python3.7/dist-packages (from autorom[accept-rom-license]~=0.4.2->stable-baselines3[extra]) (7.1.2)\n",
            "Requirement already satisfied: requests in /usr/local/lib/python3.7/dist-packages (from autorom[accept-rom-license]~=0.4.2->stable-baselines3[extra]) (2.23.0)\n",
            "Collecting AutoROM.accept-rom-license\n",
            "  Downloading AutoROM.accept-rom-license-0.4.2.tar.gz (9.8 kB)\n",
            "  Installing build dependencies ... \u001b[?25l\u001b[?25hdone\n",
            "  Getting requirements to build wheel ... \u001b[?25l\u001b[?25hdone\n",
            "    Preparing wheel metadata ... \u001b[?25l\u001b[?25hdone\n",
            "Requirement already satisfied: typing-extensions>=3.6.4 in /usr/local/lib/python3.7/dist-packages (from importlib-metadata~=4.13->stable-baselines3[extra]) (4.1.1)\n",
            "Requirement already satisfied: zipp>=0.5 in /usr/local/lib/python3.7/dist-packages (from importlib-metadata~=4.13->stable-baselines3[extra]) (3.9.0)\n",
            "Requirement already satisfied: absl-py>=0.4 in /usr/local/lib/python3.7/dist-packages (from tensorboard>=2.9.1->stable-baselines3[extra]) (1.3.0)\n",
            "Requirement already satisfied: tensorboard-plugin-wit>=1.6.0 in /usr/local/lib/python3.7/dist-packages (from tensorboard>=2.9.1->stable-baselines3[extra]) (1.8.1)\n",
            "Requirement already satisfied: grpcio>=1.24.3 in /usr/local/lib/python3.7/dist-packages (from tensorboard>=2.9.1->stable-baselines3[extra]) (1.49.1)\n",
            "Requirement already satisfied: wheel>=0.26 in /usr/local/lib/python3.7/dist-packages (from tensorboard>=2.9.1->stable-baselines3[extra]) (0.37.1)\n",
            "Requirement already satisfied: protobuf<3.20,>=3.9.2 in /usr/local/lib/python3.7/dist-packages (from tensorboard>=2.9.1->stable-baselines3[extra]) (3.17.3)\n",
            "Requirement already satisfied: setuptools>=41.0.0 in /usr/local/lib/python3.7/dist-packages (from tensorboard>=2.9.1->stable-baselines3[extra]) (57.4.0)\n",
            "Requirement already satisfied: tensorboard-data-server<0.7.0,>=0.6.0 in /usr/local/lib/python3.7/dist-packages (from tensorboard>=2.9.1->stable-baselines3[extra]) (0.6.1)\n",
            "Requirement already satisfied: werkzeug>=1.0.1 in /usr/local/lib/python3.7/dist-packages (from tensorboard>=2.9.1->stable-baselines3[extra]) (1.0.1)\n",
            "Requirement already satisfied: google-auth<3,>=1.6.3 in /usr/local/lib/python3.7/dist-packages (from tensorboard>=2.9.1->stable-baselines3[extra]) (1.35.0)\n",
            "Requirement already satisfied: markdown>=2.6.8 in /usr/local/lib/python3.7/dist-packages (from tensorboard>=2.9.1->stable-baselines3[extra]) (3.4.1)\n",
            "Requirement already satisfied: google-auth-oauthlib<0.5,>=0.4.1 in /usr/local/lib/python3.7/dist-packages (from tensorboard>=2.9.1->stable-baselines3[extra]) (0.4.6)\n",
            "Requirement already satisfied: rsa<5,>=3.1.4 in /usr/local/lib/python3.7/dist-packages (from google-auth<3,>=1.6.3->tensorboard>=2.9.1->stable-baselines3[extra]) (4.9)\n",
            "Requirement already satisfied: pyasn1-modules>=0.2.1 in /usr/local/lib/python3.7/dist-packages (from google-auth<3,>=1.6.3->tensorboard>=2.9.1->stable-baselines3[extra]) (0.2.8)\n",
            "Requirement already satisfied: cachetools<5.0,>=2.0.0 in /usr/local/lib/python3.7/dist-packages (from google-auth<3,>=1.6.3->tensorboard>=2.9.1->stable-baselines3[extra]) (4.2.4)\n",
            "Requirement already satisfied: six>=1.9.0 in /usr/local/lib/python3.7/dist-packages (from google-auth<3,>=1.6.3->tensorboard>=2.9.1->stable-baselines3[extra]) (1.15.0)\n",
            "Requirement already satisfied: requests-oauthlib>=0.7.0 in /usr/local/lib/python3.7/dist-packages (from google-auth-oauthlib<0.5,>=0.4.1->tensorboard>=2.9.1->stable-baselines3[extra]) (1.3.1)\n",
            "Requirement already satisfied: pyasn1<0.5.0,>=0.4.6 in /usr/local/lib/python3.7/dist-packages (from pyasn1-modules>=0.2.1->google-auth<3,>=1.6.3->tensorboard>=2.9.1->stable-baselines3[extra]) (0.4.8)\n",
            "Requirement already satisfied: urllib3!=1.25.0,!=1.25.1,<1.26,>=1.21.1 in /usr/local/lib/python3.7/dist-packages (from requests->autorom[accept-rom-license]~=0.4.2->stable-baselines3[extra]) (1.24.3)\n",
            "Requirement already satisfied: chardet<4,>=3.0.2 in /usr/local/lib/python3.7/dist-packages (from requests->autorom[accept-rom-license]~=0.4.2->stable-baselines3[extra]) (3.0.4)\n",
            "Requirement already satisfied: idna<3,>=2.5 in /usr/local/lib/python3.7/dist-packages (from requests->autorom[accept-rom-license]~=0.4.2->stable-baselines3[extra]) (2.10)\n",
            "Requirement already satisfied: certifi>=2017.4.17 in /usr/local/lib/python3.7/dist-packages (from requests->autorom[accept-rom-license]~=0.4.2->stable-baselines3[extra]) (2022.9.24)\n",
            "Requirement already satisfied: oauthlib>=3.0.0 in /usr/local/lib/python3.7/dist-packages (from requests-oauthlib>=0.7.0->google-auth-oauthlib<0.5,>=0.4.1->tensorboard>=2.9.1->stable-baselines3[extra]) (3.2.1)\n",
            "Requirement already satisfied: python-dateutil>=2.1 in /usr/local/lib/python3.7/dist-packages (from matplotlib->stable-baselines3[extra]) (2.8.2)\n",
            "Requirement already satisfied: pyparsing!=2.0.4,!=2.1.2,!=2.1.6,>=2.0.1 in /usr/local/lib/python3.7/dist-packages (from matplotlib->stable-baselines3[extra]) (3.0.9)\n",
            "Requirement already satisfied: cycler>=0.10 in /usr/local/lib/python3.7/dist-packages (from matplotlib->stable-baselines3[extra]) (0.11.0)\n",
            "Requirement already satisfied: kiwisolver>=1.0.1 in /usr/local/lib/python3.7/dist-packages (from matplotlib->stable-baselines3[extra]) (1.4.4)\n",
            "Requirement already satisfied: pytz>=2017.3 in /usr/local/lib/python3.7/dist-packages (from pandas->stable-baselines3[extra]) (2022.4)\n",
            "Requirement already satisfied: pygments<3.0.0,>=2.6.0 in /usr/local/lib/python3.7/dist-packages (from rich->stable-baselines3[extra]) (2.6.1)\n",
            "Collecting commonmark<0.10.0,>=0.9.0\n",
            "  Downloading commonmark-0.9.1-py2.py3-none-any.whl (51 kB)\n",
            "\u001b[K     |████████████████████████████████| 51 kB 7.0 MB/s \n",
            "\u001b[?25hBuilding wheels for collected packages: gym, AutoROM.accept-rom-license\n",
            "  Building wheel for gym (setup.py) ... \u001b[?25l\u001b[?25hdone\n",
            "  Created wheel for gym: filename=gym-0.21.0-py3-none-any.whl size=1616822 sha256=58545c0f5c87155426141320eb87bd358033da8511512451787e690a5aba8028\n",
            "  Stored in directory: /root/.cache/pip/wheels/76/ee/9c/36bfe3e079df99acf5ae57f4e3464ff2771b34447d6d2f2148\n",
            "  Building wheel for AutoROM.accept-rom-license (PEP 517) ... \u001b[?25l\u001b[?25hdone\n",
            "  Created wheel for AutoROM.accept-rom-license: filename=AutoROM.accept_rom_license-0.4.2-py3-none-any.whl size=441027 sha256=dd283ac11a90cdc2dfdea3c9c2753b3d1beee266f3e33ea0297b3057eba56758\n",
            "  Stored in directory: /root/.cache/pip/wheels/87/67/2e/6147e7912fe37f5408b80d07527dab807c1d25f5c403a9538a\n",
            "Successfully built gym AutoROM.accept-rom-license\n",
            "Installing collected packages: gym, commonmark, AutoROM.accept-rom-license, autorom, stable-baselines3, rich, ale-py\n",
            "  Attempting uninstall: gym\n",
            "    Found existing installation: gym 0.25.2\n",
            "    Uninstalling gym-0.25.2:\n",
            "      Successfully uninstalled gym-0.25.2\n",
            "Successfully installed AutoROM.accept-rom-license-0.4.2 ale-py-0.7.4 autorom-0.4.2 commonmark-0.9.1 gym-0.21.0 rich-12.6.0 stable-baselines3-1.6.2\n"
          ]
        }
      ]
    },
    {
      "cell_type": "markdown",
      "metadata": {
        "id": "OQunADhw1EXX"
      },
      "source": [
        "## Vectorized Environments and Imports\n",
        "\n",
        "[Vectorized Environments](https://stable-baselines3.readthedocs.io/en/master/guide/vec_envs.html) are a method for stacking multiple independent environments into a single environment. Instead of training an RL agent on 1 environment per step, it allows us to train it on n environments per step. This provides two benefits:\n",
        "* Agent experience can be collected more quickly\n",
        "* The experience will contain a more diverse range of states, it usually improves exploration\n",
        "\n",
        "Stable-Baselines provides two types of Vectorized Environment:\n",
        "- SubprocVecEnv which run each environment in a separate process\n",
        "- DummyVecEnv which run all environment on the same process\n",
        "\n",
        "In practice, DummyVecEnv is usually faster than SubprocVecEnv because of communication delays that subprocesses have."
      ]
    },
    {
      "cell_type": "code",
      "metadata": {
        "id": "AvO5BGrVv2Rk"
      },
      "source": [
        "import time\n",
        "import numpy as np\n",
        "import matplotlib.pyplot as plt\n",
        "%matplotlib inline\n",
        "\n",
        "import gym\n",
        "\n",
        "from stable_baselines3.common.vec_env import DummyVecEnv, SubprocVecEnv\n",
        "from stable_baselines3.common.utils import set_random_seed\n",
        "from stable_baselines3 import PPO, A2C"
      ],
      "execution_count": 2,
      "outputs": []
    },
    {
      "cell_type": "markdown",
      "metadata": {
        "id": "JcdG_UZS1-yO"
      },
      "source": [
        "Import evaluate function"
      ]
    },
    {
      "cell_type": "code",
      "metadata": {
        "id": "NHslfVkuwALj"
      },
      "source": [
        "from stable_baselines3.common.evaluation import evaluate_policy"
      ],
      "execution_count": 3,
      "outputs": []
    },
    {
      "cell_type": "markdown",
      "metadata": {
        "id": "WWsIT2vP2FzB"
      },
      "source": [
        "## Define an environment function\n",
        "\n",
        "The multiprocessing implementation requires a function that can be called inside the process to instantiate a gym env"
      ]
    },
    {
      "cell_type": "code",
      "metadata": {
        "id": "6S95WiPGwF6z"
      },
      "source": [
        "def make_env(env_id, rank, seed=0):\n",
        "    \"\"\"\n",
        "    Utility function for multiprocessed env.\n",
        "    \n",
        "    :param env_id: (str) the environment ID\n",
        "    :param seed: (int) the inital seed for RNG\n",
        "    :param rank: (int) index of the subprocess\n",
        "    \"\"\"\n",
        "    def _init():\n",
        "        env = gym.make(env_id)\n",
        "        # Important: use a different seed for each environment\n",
        "        env.seed(seed + rank)\n",
        "        return env\n",
        "    set_random_seed(seed)\n",
        "    return _init"
      ],
      "execution_count": 4,
      "outputs": []
    },
    {
      "cell_type": "markdown",
      "metadata": {
        "id": "9-QID4O2bd7c"
      },
      "source": [
        "Stable-Baselines also provides directly an helper to create vectorized environment:"
      ]
    },
    {
      "cell_type": "code",
      "metadata": {
        "id": "Gk7Ukbqlbl-i"
      },
      "source": [
        "from stable_baselines3.common.env_util import make_vec_env"
      ],
      "execution_count": 5,
      "outputs": []
    },
    {
      "cell_type": "markdown",
      "metadata": {
        "id": "DJUP0PQi2WEE"
      },
      "source": [
        "## Define a few constants (feel free to try out other environments and algorithms)\n",
        "We will be using the Cartpole environment: [https://gym.openai.com/envs/CartPole-v1/](https://gym.openai.com/envs/CartPole-v1/)\n",
        "\n",
        "![Cartpole](https://cdn-images-1.medium.com/max/1143/1*h4WTQNVIsvMXJTCpXm_TAw.gif)\n",
        "\n"
      ]
    },
    {
      "cell_type": "code",
      "metadata": {
        "id": "bmdNV8UVwTht"
      },
      "source": [
        "env_id = 'CartPole-v1'\n",
        "# The different number of processes that will be used\n",
        "PROCESSES_TO_TEST = [1, 2, 4, 8, 16] \n",
        "NUM_EXPERIMENTS = 3 # RL algorithms can often be unstable, so we run several experiments (see https://arxiv.org/abs/1709.06560)\n",
        "TRAIN_STEPS = 5000\n",
        "# Number of episodes for evaluation\n",
        "EVAL_EPS = 20\n",
        "ALGO = A2C\n",
        "\n",
        "# We will create one environment to evaluate the agent on\n",
        "eval_env = gym.make(env_id)"
      ],
      "execution_count": 6,
      "outputs": []
    },
    {
      "cell_type": "markdown",
      "metadata": {
        "id": "y08bJGxj2ezh"
      },
      "source": [
        "## Iterate through the different numbers of processes\n",
        "\n",
        "For each processes, several experiments are run per process\n",
        "This may take a couple of minutes."
      ]
    },
    {
      "cell_type": "code",
      "metadata": {
        "id": "kcYpsA8ExB9T",
        "colab": {
          "base_uri": "https://localhost:8080/"
        },
        "outputId": "bfbacb57-26a1-49cd-b23c-912c6c8bf129"
      },
      "source": [
        "reward_averages = []\n",
        "reward_std = []\n",
        "training_times = []\n",
        "total_procs = 0\n",
        "for n_procs in PROCESSES_TO_TEST:\n",
        "    total_procs += n_procs\n",
        "    print('Running for n_procs = {}'.format(n_procs))\n",
        "    if n_procs == 1:\n",
        "        # if there is only one process, there is no need to use multiprocessing\n",
        "        train_env = DummyVecEnv([lambda: gym.make(env_id)])\n",
        "    else:\n",
        "        # Here we use the \"fork\" method for launching the processes, more information is available in the doc\n",
        "        # This is equivalent to make_vec_env(env_id, n_envs=n_procs, vec_env_cls=SubprocVecEnv, vec_env_kwargs=dict(start_method='fork'))\n",
        "        train_env = SubprocVecEnv([make_env(env_id, i+total_procs) for i in range(n_procs)], start_method='fork')\n",
        "\n",
        "    rewards = []\n",
        "    times = []\n",
        "\n",
        "    for experiment in range(NUM_EXPERIMENTS):\n",
        "        # it is recommended to run several experiments due to variability in results\n",
        "        train_env.reset()\n",
        "        model = ALGO('MlpPolicy', train_env, verbose=0)\n",
        "        start = time.time()\n",
        "        model.learn(total_timesteps=TRAIN_STEPS)\n",
        "        times.append(time.time() - start)\n",
        "        mean_reward, _  = evaluate_policy(model, eval_env, n_eval_episodes=EVAL_EPS)\n",
        "        rewards.append(mean_reward)\n",
        "    # Important: when using subprocesses, don't forget to close them\n",
        "    # otherwise, you may have memory issues when running a lot of experiments\n",
        "    train_env.close()\n",
        "    reward_averages.append(np.mean(rewards))\n",
        "    reward_std.append(np.std(rewards))\n",
        "    training_times.append(np.mean(times))"
      ],
      "execution_count": 7,
      "outputs": [
        {
          "output_type": "stream",
          "name": "stdout",
          "text": [
            "Running for n_procs = 1\n"
          ]
        },
        {
          "output_type": "stream",
          "name": "stderr",
          "text": [
            "/usr/local/lib/python3.7/dist-packages/stable_baselines3/common/evaluation.py:69: UserWarning: Evaluation environment is not wrapped with a ``Monitor`` wrapper. This may result in reporting modified episode lengths and rewards, if other wrappers happen to modify these. Consider wrapping environment first with ``Monitor`` wrapper.\n",
            "  UserWarning,\n"
          ]
        },
        {
          "output_type": "stream",
          "name": "stdout",
          "text": [
            "Running for n_procs = 2\n",
            "Running for n_procs = 4\n",
            "Running for n_procs = 8\n",
            "Running for n_procs = 16\n"
          ]
        }
      ]
    },
    {
      "cell_type": "markdown",
      "metadata": {
        "id": "2z5paN1q3AaC"
      },
      "source": [
        "## Plot the results"
      ]
    },
    {
      "cell_type": "code",
      "source": [
        "def plot_training_results(training_steps_per_second):\n",
        "  plt.figure(figsize=(9, 4))\n",
        "  plt.subplots_adjust(wspace=0.5)\n",
        "  plt.subplot(1, 2, 1)\n",
        "  plt.errorbar(PROCESSES_TO_TEST, reward_averages, yerr=reward_std, capsize=2, c='k', marker='o')\n",
        "  plt.xlabel('Processes')\n",
        "  plt.ylabel('Average return')\n",
        "  plt.subplot(1, 2, 2)\n",
        "  plt.bar(range(len(PROCESSES_TO_TEST)), training_steps_per_second)\n",
        "  plt.xticks(range(len(PROCESSES_TO_TEST)), PROCESSES_TO_TEST)\n",
        "  plt.xlabel('Processes')\n",
        "  _ = plt.ylabel('Training steps per second')\n"
      ],
      "metadata": {
        "id": "CGnZ8SccKG4D"
      },
      "execution_count": null,
      "outputs": []
    },
    {
      "cell_type": "code",
      "metadata": {
        "id": "fPWfc96JxT-k",
        "outputId": "cb00ba33-7fee-4560-a1c0-ebcc49d23d25",
        "colab": {
          "base_uri": "https://localhost:8080/",
          "height": 280
        }
      },
      "source": [
        "training_steps_per_second = [TRAIN_STEPS / t for t in training_times]\n",
        "\n",
        "plot_training_results(training_steps_per_second)"
      ],
      "execution_count": 8,
      "outputs": [
        {
          "output_type": "display_data",
          "data": {
            "text/plain": [
              "<Figure size 648x288 with 2 Axes>"
            ],
            "image/png": "[encoded data removed]"
          },
          "metadata": {
            "needs_background": "light"
          }
        }
      ]
    },
    {
      "cell_type": "markdown",
      "metadata": {
        "id": "R5xE8EX63PO9"
      },
      "source": [
        "## Sample efficiency vs wall clock time trade-off\n",
        "There is clearly a trade-off between sample efficiency, diverse experience and wall clock time. Let's try getting the best performance in a fixed amount of time, say 10 seconds per experiment"
      ]
    },
    {
      "cell_type": "code",
      "metadata": {
        "id": "Mu8ZYFQN3yLr",
        "colab": {
          "base_uri": "https://localhost:8080/"
        },
        "outputId": "665c3722-33f6-4321-e556-af12c1c23767"
      },
      "source": [
        "SECONDS_PER_EXPERIMENT = 10\n",
        "steps_per_experiment = [int(SECONDS_PER_EXPERIMENT * fps) for fps in training_steps_per_second]\n",
        "reward_averages = []\n",
        "reward_std = []\n",
        "training_times = []\n",
        "\n",
        "for n_procs, train_steps in zip(PROCESSES_TO_TEST, steps_per_experiment):\n",
        "    total_procs += n_procs\n",
        "    print('Running for n_procs = {} for steps = {}'.format(n_procs, train_steps))\n",
        "    if n_procs == 1:\n",
        "        # if there is only one process, there is no need to use multiprocessing\n",
        "        train_env = DummyVecEnv([lambda: gym.make(env_id)])\n",
        "    else:\n",
        "        train_env = SubprocVecEnv([make_env(env_id, i+total_procs) for i in range(n_procs)], start_method='spawn')\n",
        "        # Alternatively, you can use a DummyVecEnv if the communication delays is the bottleneck\n",
        "        # train_env = DummyVecEnv([make_env(env_id, i+total_procs) for i in range(n_procs)])\n",
        "\n",
        "    rewards = []\n",
        "    times = []\n",
        "\n",
        "    for experiment in range(NUM_EXPERIMENTS):\n",
        "        # it is recommended to run several experiments due to variability in results\n",
        "        train_env.reset()\n",
        "        model = ALGO('MlpPolicy', train_env, verbose=0)\n",
        "        start = time.time()\n",
        "        model.learn(total_timesteps=train_steps)\n",
        "        times.append(time.time() - start)\n",
        "        mean_reward, _ = evaluate_policy(model, eval_env, n_eval_episodes=EVAL_EPS)\n",
        "        rewards.append(mean_reward)\n",
        "\n",
        "    train_env.close()\n",
        "    reward_averages.append(np.mean(rewards))\n",
        "    reward_std.append(np.std(rewards))\n",
        "    training_times.append(np.mean(times))\n"
      ],
      "execution_count": null,
      "outputs": [
        {
          "output_type": "stream",
          "name": "stdout",
          "text": [
            "Running for n_procs = 1 for steps = 4654\n",
            "Running for n_procs = 2 for steps = 8721\n",
            "Running for n_procs = 4 for steps = 12406\n",
            "Running for n_procs = 8 for steps = 19977\n"
          ]
        }
      ]
    },
    {
      "cell_type": "markdown",
      "metadata": {
        "id": "G7a7ZiVw5A11"
      },
      "source": [
        "## Plot the results"
      ]
    },
    {
      "cell_type": "code",
      "metadata": {
        "id": "EQXJ1hI46DVB"
      },
      "source": [
        "training_steps_per_second = [s / t for s,t in zip(steps_per_experiment, training_times)]\n",
        "\n",
        "plot_training_results(training_steps_per_second)"
      ],
      "execution_count": null,
      "outputs": []
    },
    {
      "cell_type": "markdown",
      "metadata": {
        "id": "0FcOcVf5rY3C"
      },
      "source": [
        "## DummyVecEnv vs SubprocVecEnv"
      ]
    },
    {
      "cell_type": "code",
      "metadata": {
        "id": "MebaTHQvqhoH"
      },
      "source": [
        "reward_averages = []\n",
        "reward_std = []\n",
        "training_times = []\n",
        "total_procs = 0\n",
        "for n_procs in PROCESSES_TO_TEST:\n",
        "    total_procs += n_procs\n",
        "    print('Running for n_procs = {}'.format(n_procs))\n",
        "    # Here we are using only one process even for n_env > 1\n",
        "    # this is equivalent to DummyVecEnv([make_env(env_id, i + total_procs) for i in range(n_procs)])\n",
        "    train_env = make_vec_env(env_id, n_envs=n_procs)\n",
        "\n",
        "    rewards = []\n",
        "    times = []\n",
        "\n",
        "    for experiment in range(NUM_EXPERIMENTS):\n",
        "        # it is recommended to run several experiments due to variability in results\n",
        "        train_env.reset()\n",
        "        model = ALGO('MlpPolicy', train_env, verbose=0)\n",
        "        start = time.time()\n",
        "        model.learn(total_timesteps=TRAIN_STEPS)\n",
        "        times.append(time.time() - start)\n",
        "        mean_reward, _ = evaluate_policy(model, eval_env, n_eval_episodes=EVAL_EPS)\n",
        "        rewards.append(mean_reward)\n",
        "\n",
        "    train_env.close()\n",
        "    reward_averages.append(np.mean(rewards))\n",
        "    reward_std.append(np.std(rewards))\n",
        "    training_times.append(np.mean(times))"
      ],
      "execution_count": null,
      "outputs": []
    },
    {
      "cell_type": "code",
      "metadata": {
        "id": "kmMr_c1hqmoi"
      },
      "source": [
        "training_steps_per_second = [TRAIN_STEPS / t for t in training_times]\n",
        "\n",
        "plot_training_results(training_steps_per_second)"
      ],
      "execution_count": null,
      "outputs": []
    },
    {
      "cell_type": "markdown",
      "metadata": {
        "id": "e9PNbT35spZW"
      },
      "source": [
        "### What's happening?\n",
        "\n",
        "It seems that having only one process for n environments is faster in our case.\n",
        "In practice, the bottleneck does not come from the environment computation, but from synchronisation and communication between processes. To learn more about that problem, you can start [here](https://github.com/hill-a/stable-baselines/issues/322#issuecomment-492202915)"
      ]
    },
    {
      "cell_type": "markdown",
      "metadata": {
        "id": "GlcJPYN-6ebp"
      },
      "source": [
        "## Conclusions\n",
        "This notebook has highlighted some of the pros and cons of multiprocessing. It is worth mentioning that colab notebooks only provide two CPU cores per process, so we do not see a linear scaling of the FPS of the environments. State of the art Deep RL research has scaled parallel processing to tens of thousands of CPU cores, [OpenAI RAPID](https://openai.com/blog/how-to-train-your-openai-five/) [IMPALA](https://arxiv.org/abs/1802.01561).\n",
        "\n",
        "Do you think this direction of research is transferable to real world robots / intelligent agents?\n",
        "\n",
        "Things to try:\n",
        "* Another algorithm / environment.\n",
        "* Increase the number of experiments.\n",
        "* Train for more iterations.\n"
      ]
    }
  ]
}

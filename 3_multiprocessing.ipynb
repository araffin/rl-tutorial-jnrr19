{
  "nbformat": 4,
  "nbformat_minor": 0,
  "metadata": {
    "colab": {
      "name": "3_multiprocessing.ipynb",
      "provenance": [],
      "collapsed_sections": [],
      "include_colab_link": true
    },
    "kernelspec": {
      "name": "python3",
      "display_name": "Python 3"
    }
  },
  "cells": [
    {
      "cell_type": "markdown",
      "metadata": {
        "id": "view-in-github",
        "colab_type": "text"
      },
      "source": [
        "<a href=\"https://colab.research.google.com/github/araffin/rl-tutorial-jnrr19/blob/sb3/3_multiprocessing.ipynb\" target=\"_parent\"><img src=\"https://colab.research.google.com/assets/colab-badge.svg\" alt=\"Open In Colab\"/></a>"
      ]
    },
    {
      "cell_type": "markdown",
      "metadata": {
        "id": "KnPeMWYi0vAx",
        "colab_type": "text"
      },
      "source": [
        "# Stable Baselines3 Tutorial - Multiprocessing of environments\n",
        "\n",
        "Github repo: https://github.com/araffin/rl-tutorial-jnrr19/tree/sb3/\n",
        "\n",
        "Stable-Baselines3: https://github.com/DLR-RM/stable-baselines3\n",
        "\n",
        "Documentation: https://stable-baselines3.readthedocs.io/en/master/\n",
        "\n",
        "RL Baselines3 zoo: https://github.com/DLR-RM/rl-baselines3-zoo\n",
        "\n",
        "\n",
        "## Introduction\n",
        "\n",
        "In this notebook, you will learn how to use *Vectorized Environments* (aka multiprocessing) to make training faster. You will also see that this speed up comes at a cost of sample efficiency.\n",
        "\n",
        "## Install Dependencies and Stable Baselines3 Using Pip"
      ]
    },
    {
      "cell_type": "code",
      "metadata": {
        "id": "ClRYNMkVvpUX",
        "colab_type": "code",
        "colab": {}
      },
      "source": [
        "!apt install swig\n",
        "!pip install stable-baselines3[extra]"
      ],
      "execution_count": 0,
      "outputs": []
    },
    {
      "cell_type": "markdown",
      "metadata": {
        "id": "OQunADhw1EXX",
        "colab_type": "text"
      },
      "source": [
        "## Vectorized Environments and Imports\n",
        "\n",
        "[Vectorized Environments](https://stable-baselines3.readthedocs.io/en/master/guide/vec_envs.html) are a method for stacking multiple independent environments into a single environment. Instead of training an RL agent on 1 environment per step, it allows us to train it on n environments per step. This provides two benefits:\n",
        "* Agent experience can be collected more quickly\n",
        "* The experience will contain a more diverse range of states, it usually improves exploration\n",
        "\n",
        "Stable-Baselines provides two types of Vectorized Environment:\n",
        "- SubprocVecEnv which run each environment in a separate process\n",
        "- DummyVecEnv which run all environment on the same process\n",
        "\n",
        "In practice, DummyVecEnv is usually faster than SubprocVecEnv because of communication delays that subprocesses have."
      ]
    },
    {
      "cell_type": "code",
      "metadata": {
        "id": "AvO5BGrVv2Rk",
        "colab_type": "code",
        "colab": {}
      },
      "source": [
        "import time\n",
        "import numpy as np\n",
        "import matplotlib.pyplot as plt\n",
        "%matplotlib inline\n",
        "\n",
        "import gym\n",
        "\n",
        "from stable_baselines3.common.vec_env import DummyVecEnv, SubprocVecEnv\n",
        "from stable_baselines3.common.utils import set_random_seed\n",
        "from stable_baselines3 import PPO, A2C"
      ],
      "execution_count": 0,
      "outputs": []
    },
    {
      "cell_type": "markdown",
      "metadata": {
        "id": "JcdG_UZS1-yO",
        "colab_type": "text"
      },
      "source": [
        "Import evaluate function"
      ]
    },
    {
      "cell_type": "code",
      "metadata": {
        "id": "NHslfVkuwALj",
        "colab_type": "code",
        "colab": {}
      },
      "source": [
        "from stable_baselines3.common.evaluation import evaluate_policy"
      ],
      "execution_count": 0,
      "outputs": []
    },
    {
      "cell_type": "markdown",
      "metadata": {
        "id": "WWsIT2vP2FzB",
        "colab_type": "text"
      },
      "source": [
        "## Define an environment function\n",
        "\n",
        "The multiprocessing implementation requires a function that can be called inside the process to instantiate a gym env"
      ]
    },
    {
      "cell_type": "code",
      "metadata": {
        "id": "6S95WiPGwF6z",
        "colab_type": "code",
        "colab": {}
      },
      "source": [
        "def make_env(env_id, rank, seed=0):\n",
        "    \"\"\"\n",
        "    Utility function for multiprocessed env.\n",
        "    \n",
        "    :param env_id: (str) the environment ID\n",
        "    :param seed: (int) the inital seed for RNG\n",
        "    :param rank: (int) index of the subprocess\n",
        "    \"\"\"\n",
        "    def _init():\n",
        "        env = gym.make(env_id)\n",
        "        # Important: use a different seed for each environment\n",
        "        env.seed(seed + rank)\n",
        "        return env\n",
        "    set_random_seed(seed)\n",
        "    return _init"
      ],
      "execution_count": 0,
      "outputs": []
    },
    {
      "cell_type": "markdown",
      "metadata": {
        "id": "9-QID4O2bd7c",
        "colab_type": "text"
      },
      "source": [
        "Stable-Baselines also provides directly an helper to create vectorized environment:"
      ]
    },
    {
      "cell_type": "code",
      "metadata": {
        "id": "Gk7Ukbqlbl-i",
        "colab_type": "code",
        "colab": {}
      },
      "source": [
        "from stable_baselines3.common.env_util import make_vec_env"
      ],
      "execution_count": 0,
      "outputs": []
    },
    {
      "cell_type": "markdown",
      "metadata": {
        "id": "DJUP0PQi2WEE",
        "colab_type": "text"
      },
      "source": [
        "## Define a few constants (feel free to try out other environments and algorithms)\n",
        "We will be using the Cartpole environment: [https://gym.openai.com/envs/CartPole-v1/](https://gym.openai.com/envs/CartPole-v1/)\n",
        "\n",
        "![Cartpole](https://cdn-images-1.medium.com/max/1143/1*h4WTQNVIsvMXJTCpXm_TAw.gif)\n",
        "\n"
      ]
    },
    {
      "cell_type": "code",
      "metadata": {
        "id": "bmdNV8UVwTht",
        "colab_type": "code",
        "colab": {}
      },
      "source": [
        "env_id = 'CartPole-v1'\n",
        "# The different number of processes that will be used\n",
        "PROCESSES_TO_TEST = [1, 2, 4, 8, 16] \n",
        "NUM_EXPERIMENTS = 3 # RL algorithms can often be unstable, so we run several experiments (see https://arxiv.org/abs/1709.06560)\n",
        "TRAIN_STEPS = 5000\n",
        "# Number of episodes for evaluation\n",
        "EVAL_EPS = 20\n",
        "ALGO = A2C\n",
        "\n",
        "# We will create one environment to evaluate the agent on\n",
        "eval_env = gym.make(env_id)"
      ],
      "execution_count": 0,
      "outputs": []
    },
    {
      "cell_type": "markdown",
      "metadata": {
        "id": "y08bJGxj2ezh",
        "colab_type": "text"
      },
      "source": [
        "## Iterate through the different numbers of processes\n",
        "\n",
        "For each processes, several experiments are run per process\n",
        "This may take a couple of minutes."
      ]
    },
    {
      "cell_type": "code",
      "metadata": {
        "id": "kcYpsA8ExB9T",
        "colab_type": "code",
        "colab": {
          "base_uri": "https://localhost:8080/",
          "height": 106
        },
        "outputId": "11e28f5c-c3d3-4669-ab4b-acff3e710ac1"
      },
      "source": [
        "reward_averages = []\n",
        "reward_std = []\n",
        "training_times = []\n",
        "total_procs = 0\n",
        "for n_procs in PROCESSES_TO_TEST:\n",
        "    total_procs += n_procs\n",
        "    print('Running for n_procs = {}'.format(n_procs))\n",
        "    if n_procs == 1:\n",
        "        # if there is only one process, there is no need to use multiprocessing\n",
        "        train_env = DummyVecEnv([lambda: gym.make(env_id)])\n",
        "    else:\n",
        "        # Here we use the \"fork\" method for launching the processes, more information is available in the doc\n",
        "        # This is equivalent to make_vec_env(env_id, n_envs=n_procs, vec_env_cls=SubprocVecEnv, vec_env_kwargs=dict(start_method='fork'))\n",
        "        train_env = SubprocVecEnv([make_env(env_id, i+total_procs) for i in range(n_procs)], start_method='fork')\n",
        "\n",
        "    rewards = []\n",
        "    times = []\n",
        "\n",
        "    for experiment in range(NUM_EXPERIMENTS):\n",
        "        # it is recommended to run several experiments due to variability in results\n",
        "        train_env.reset()\n",
        "        model = ALGO('MlpPolicy', train_env, verbose=0)\n",
        "        start = time.time()\n",
        "        model.learn(total_timesteps=TRAIN_STEPS)\n",
        "        times.append(time.time() - start)\n",
        "        mean_reward, _  = evaluate_policy(model, eval_env, n_eval_episodes=EVAL_EPS)\n",
        "        rewards.append(mean_reward)\n",
        "    # Important: when using subprocesses, don't forget to close them\n",
        "    # otherwise, you may have memory issues when running a lot of experiments\n",
        "    train_env.close()\n",
        "    reward_averages.append(np.mean(rewards))\n",
        "    reward_std.append(np.std(rewards))\n",
        "    training_times.append(np.mean(times))"
      ],
      "execution_count": 0,
      "outputs": []
    },
    {
      "cell_type": "markdown",
      "metadata": {
        "id": "2z5paN1q3AaC",
        "colab_type": "text"
      },
      "source": [
        "## Plot the results"
      ]
    },
    {
      "cell_type": "code",
      "source": [
        "def plot_training_results(training_steps_per_second, reward_averages, reward_std):\n",
        "  \"\"\"\n",
        "  Utility function for plotting the results of training\n",
        "\n",
        "  :param training_steps_per_second: List[double]       \n",
        "  :param reward_averages: List[double]\n",
        "  :param reward_std: List[double]\n",
        "  \"\"\"\n",
        "  plt.figure(figsize=(9, 4))\n",
        "  plt.subplots_adjust(wspace=0.5)\n",
        "  plt.subplot(1, 2, 1)\n",
        "  plt.errorbar(PROCESSES_TO_TEST, reward_averages, yerr=reward_std, capsize=2, c='k', marker='o')\n",
        "  plt.xlabel('Processes')\n",
        "  plt.ylabel('Average return')\n",
        "  plt.subplot(1, 2, 2)\n",
        "  plt.bar(range(len(PROCESSES_TO_TEST)), training_steps_per_second)\n",
        "  plt.xticks(range(len(PROCESSES_TO_TEST)), PROCESSES_TO_TEST)\n",
        "  plt.xlabel('Processes')\n",
        "  plt.ylabel('Training steps per second')\n"
      ],
      "metadata": {
        "id": "CGnZ8SccKG4D"
      },
      "execution_count": 0,
      "outputs": []
    },
    {
      "cell_type": "code",
      "metadata": {
        "id": "fPWfc96JxT-k",
        "outputId": "25d8cca0-ca81-4674-e747-85ae94f80270",
        "colab": {
          "base_uri": "https://localhost:8080/",
          "height": 279
        }
      },
      "source": [
        "training_steps_per_second = [TRAIN_STEPS / t for t in training_times]\n",
        "\n",
        "plot_training_results(training_steps_per_second, reward_averages, reward_std)"
      ],
      "execution_count": 0,
      "outputs": [
        {
          "output_type": "display_data",
          "data": {
            "text/plain": [
              "<Figure size 648x288 with 2 Axes>"
            ],
            "image/png": "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\n"
          },
          "metadata": {
            "needs_background": "light"
          }
        }
      ]
    },
    {
      "cell_type": "markdown",
      "metadata": {
        "id": "R5xE8EX63PO9",
        "colab_type": "text"
      },
      "source": [
        "## Sample efficiency vs wall clock time trade-off\n",
        "There is clearly a trade-off between sample efficiency, diverse experience and wall clock time. Let's try getting the best performance in a fixed amount of time, say 10 seconds per experiment"
      ]
    },
    {
      "cell_type": "code",
      "metadata": {
        "id": "Mu8ZYFQN3yLr",
        "colab_type": "code",j
        "colab": {
          "base_uri": "https://localhost:8080/",
          "height": 106
        },
        "outputId": "2cdda2c8-e2f0-401b-a6ea-99c80d91fe8e"
      },
      "source": [
        "SECONDS_PER_EXPERIMENT = 10\n",
        "steps_per_experiment = [int(SECONDS_PER_EXPERIMENT * fps) for fps in training_steps_per_second]\n",
        "reward_averages = []\n",
        "reward_std = []\n",
        "training_times = []\n",
        "\n",
        "for n_procs, train_steps in zip(PROCESSES_TO_TEST, steps_per_experiment):\n",
        "    total_procs += n_procs\n",
        "    print('Running for n_procs = {} for steps = {}'.format(n_procs, train_steps))\n",
        "    if n_procs == 1:\n",
        "        # if there is only one process, there is no need to use multiprocessing\n",
        "        train_env = DummyVecEnv([lambda: gym.make(env_id)])\n",
        "    else:\n",
        "        train_env = SubprocVecEnv([make_env(env_id, i+total_procs) for i in range(n_procs)], start_method='spawn')\n",
        "        # Alternatively, you can use a DummyVecEnv if the communication delays is the bottleneck\n",
        "        # train_env = DummyVecEnv([make_env(env_id, i+total_procs) for i in range(n_procs)])\n",
        "\n",
        "    rewards = []\n",
        "    times = []\n",
        "\n",
        "    for experiment in range(NUM_EXPERIMENTS):\n",
        "        # it is recommended to run several experiments due to variability in results\n",
        "        train_env.reset()\n",
        "        model = ALGO('MlpPolicy', train_env, verbose=0)\n",
        "        start = time.time()\n",
        "        model.learn(total_timesteps=train_steps)\n",
        "        times.append(time.time() - start)\n",
        "        mean_reward, _ = evaluate_policy(model, eval_env, n_eval_episodes=EVAL_EPS)\n",
        "        rewards.append(mean_reward)\n",
        "\n",
        "    train_env.close()\n",
        "    reward_averages.append(np.mean(rewards))\n",
        "    reward_std.append(np.std(rewards))\n",
        "    training_times.append(np.mean(times))\n"
      ],
      "execution_count": 0,
      "outputs": []
    },
    {
      "cell_type": "markdown",
      "metadata": {
        "id": "G7a7ZiVw5A11",
        "colab_type": "text"
      },
      "source": [
        "## Plot the results"
      ]
    },
    {
      "cell_type": "code",
      "metadata": {
        "id": "EQXJ1hI46DVB",
        "colab_type": "code",
        "outputId": "d5b47716-3551-47b1-f690-16d726e89a05",
        "colab": {
          "base_uri": "https://localhost:8080/",
          "height": 297
        }
      },
      "source": [
        "training_steps_per_second = [s / t for s,t in zip(steps_per_experiment, training_times)]\n",
        "\n",
        "plot_training_results(training_steps_per_second, reward_averages, reward_std)"
      ],
      "execution_count": 0,
      "outputs": []
    },
    {
      "cell_type": "markdown",
      "metadata": {
        "id": "0FcOcVf5rY3C",
        "colab_type": "text"
      },
      "source": [
        "## DummyVecEnv vs SubprocVecEnv"
      ]
    },
    {
      "cell_type": "code",
      "metadata": {
        "id": "MebaTHQvqhoH",
        "colab_type": "code",
        "outputId": "637e9934-e6b1-4ce3-a401-c20f23437e67",
        "colab": {
          "base_uri": "https://localhost:8080/",
          "height": 106
        }
      },
      "source": [
        "reward_averages = []\n",
        "reward_std = []\n",
        "training_times = []\n",
        "total_procs = 0\n",
        "for n_procs in PROCESSES_TO_TEST:\n",
        "    total_procs += n_procs\n",
        "    print('Running for n_procs = {}'.format(n_procs))\n",
        "    # Here we are using only one process even for n_env > 1\n",
        "    # this is equivalent to DummyVecEnv([make_env(env_id, i + total_procs) for i in range(n_procs)])\n",
        "    train_env = make_vec_env(env_id, n_envs=n_procs)\n",
        "\n",
        "    rewards = []\n",
        "    times = []\n",
        "\n",
        "    for experiment in range(NUM_EXPERIMENTS):\n",
        "        # it is recommended to run several experiments due to variability in results\n",
        "        train_env.reset()\n",
        "        model = ALGO('MlpPolicy', train_env, verbose=0)\n",
        "        start = time.time()\n",
        "        model.learn(total_timesteps=TRAIN_STEPS)\n",
        "        times.append(time.time() - start)\n",
        "        mean_reward, _ = evaluate_policy(model, eval_env, n_eval_episodes=EVAL_EPS)\n",
        "        rewards.append(mean_reward)\n",
        "\n",
        "    train_env.close()\n",
        "    reward_averages.append(np.mean(rewards))\n",
        "    reward_std.append(np.std(rewards))\n",
        "    training_times.append(np.mean(times))"
      ],
      "execution_count": 0,
      "outputs": []
    },
    {
      "cell_type": "code",
      "metadata": {
        "id": "kmMr_c1hqmoi",
        "colab_type": "code",
        "outputId": "cc174025-ed75-4897-f745-c08944493366",
        "colab": {
          "base_uri": "https://localhost:8080/",
          "height": 297
        }
      },
      "source": [
        "training_steps_per_second = [TRAIN_STEPS / t for t in training_times]\n",
        "\n",
        "plot_training_results(training_steps_per_second, reward_averages, reward_std)"
      ],
      "execution_count": 0,
      "outputs": []
    },
    {
      "cell_type": "markdown",
      "metadata": {
        "id": "e9PNbT35spZW",
        "colab_type": "text"
      },
      "source": [
        "### What's happening?\n",
        "\n",
        "It seems that having only one process for n environments is faster in our case.\n",
        "In practice, the bottleneck does not come from the environment computation, but from synchronisation and communication between processes. To learn more about that problem, you can start [here](https://github.com/hill-a/stable-baselines/issues/322#issuecomment-492202915)"
      ]
    },
    {
      "cell_type": "markdown",
      "metadata": {
        "id": "GlcJPYN-6ebp",
        "colab_type": "text"
      },
      "source": [
        "## Conclusions\n",
        "This notebook has highlighted some of the pros and cons of multiprocessing. It is worth mentioning that colab notebooks only provide two CPU cores per process, so we do not see a linear scaling of the FPS of the environments. State of the art Deep RL research has scaled parallel processing to tens of thousands of CPU cores, [OpenAI RAPID](https://openai.com/blog/how-to-train-your-openai-five/) [IMPALA](https://arxiv.org/abs/1802.01561).\n",
        "\n",
        "Do you think this direction of research is transferable to real world robots / intelligent agents?\n",
        "\n",
        "Things to try:\n",
        "* Another algorithm / environment.\n",
        "* Increase the number of experiments.\n",
        "* Train for more iterations.\n"
      ]
    }
  ]
}
